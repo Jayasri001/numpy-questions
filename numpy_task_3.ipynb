{
  "nbformat": 4,
  "nbformat_minor": 0,
  "metadata": {
    "colab": {
      "name": "numpy task 3.ipynb",
      "provenance": [],
      "collapsed_sections": []
    },
    "kernelspec": {
      "display_name": "Python 3",
      "name": "python3"
    },
    "language_info": {
      "name": "python"
    }
  },
  "cells": [
    {
      "cell_type": "code",
      "metadata": {
        "colab": {
          "base_uri": "https://localhost:8080/"
        },
        "id": "SY1cGtGss5Fu",
        "outputId": "5801f09c-b780-43d6-c5a0-e2c1cdb9748c"
      },
      "source": [
        "import numpy as np\n",
        "print(np.__version__)\n",
        "print(np.show_config())"
      ],
      "execution_count": null,
      "outputs": [
        {
          "name": "stdout",
          "output_type": "stream",
          "text": [
            "1.19.5\n",
            "blas_mkl_info:\n",
            "  NOT AVAILABLE\n",
            "blis_info:\n",
            "  NOT AVAILABLE\n",
            "openblas_info:\n",
            "    libraries = ['openblas', 'openblas']\n",
            "    library_dirs = ['/usr/local/lib']\n",
            "    language = c\n",
            "    define_macros = [('HAVE_CBLAS', None)]\n",
            "blas_opt_info:\n",
            "    libraries = ['openblas', 'openblas']\n",
            "    library_dirs = ['/usr/local/lib']\n",
            "    language = c\n",
            "    define_macros = [('HAVE_CBLAS', None)]\n",
            "lapack_mkl_info:\n",
            "  NOT AVAILABLE\n",
            "openblas_lapack_info:\n",
            "    libraries = ['openblas', 'openblas']\n",
            "    library_dirs = ['/usr/local/lib']\n",
            "    language = c\n",
            "    define_macros = [('HAVE_CBLAS', None)]\n",
            "lapack_opt_info:\n",
            "    libraries = ['openblas', 'openblas']\n",
            "    library_dirs = ['/usr/local/lib']\n",
            "    language = c\n",
            "    define_macros = [('HAVE_CBLAS', None)]\n",
            "None\n"
          ]
        }
      ]
    },
    {
      "cell_type": "code",
      "metadata": {
        "colab": {
          "base_uri": "https://localhost:8080/"
        },
        "id": "aAYZ1maPuBt2",
        "outputId": "e393e431-bc39-479a-cbd4-dbd7a63fbbfc"
      },
      "source": [
        "#3. Create a null vector of size 10 \n",
        "x = np.zeros(10)\n",
        "x"
      ],
      "execution_count": null,
      "outputs": [
        {
          "data": {
            "text/plain": [
              "array([0., 0., 0., 0., 0., 0., 0., 0., 0., 0.])"
            ]
          },
          "execution_count": 3,
          "metadata": {},
          "output_type": "execute_result"
        }
      ]
    },
    {
      "cell_type": "code",
      "metadata": {
        "colab": {
          "base_uri": "https://localhost:8080/"
        },
        "id": "6TA8-bivuB3j",
        "outputId": "4f21a632-627e-4b82-c9e4-a3fff8941355"
      },
      "source": [
        "#4.How to find the memory size of any array\n",
        "print(x.size)\n",
        "print(x.itemsize)\n",
        "print(x.nbytes)\n"
      ],
      "execution_count": null,
      "outputs": [
        {
          "name": "stdout",
          "output_type": "stream",
          "text": [
            "10\n",
            "8\n",
            "80\n"
          ]
        }
      ]
    },
    {
      "cell_type": "code",
      "metadata": {
        "colab": {
          "base_uri": "https://localhost:8080/"
        },
        "id": "P_Xk9ldMuB8h",
        "outputId": "96f06f0e-3dff-4b7c-b3cc-54c2f36f1c21"
      },
      "source": [
        "#5. How to get the documentation of the numpy add function from the command line? (★☆☆)\n",
        "#(hint: np.info)\n",
        "print(np.info(np.add))"
      ],
      "execution_count": null,
      "outputs": [
        {
          "name": "stdout",
          "output_type": "stream",
          "text": [
            "None\n"
          ]
        }
      ]
    },
    {
      "cell_type": "code",
      "metadata": {
        "colab": {
          "base_uri": "https://localhost:8080/"
        },
        "id": "o_Yb01DcuCFD",
        "outputId": "161eb668-afc3-4ec4-a11b-e16aef11874f"
      },
      "source": [
        "#6. Create a null vector of size 10 but the fifth value which is 1 (★☆☆)\n",
        "#(hint: array[4])\n",
        "x = np.zeros(10)\n",
        "x[4] = 1\n",
        "x"
      ],
      "execution_count": null,
      "outputs": [
        {
          "data": {
            "text/plain": [
              "array([0., 0., 0., 0., 1., 0., 0., 0., 0., 0.])"
            ]
          },
          "execution_count": 12,
          "metadata": {},
          "output_type": "execute_result"
        }
      ]
    },
    {
      "cell_type": "code",
      "metadata": {
        "colab": {
          "base_uri": "https://localhost:8080/"
        },
        "id": "dg7aom-BxZKl",
        "outputId": "ee7f8b34-a09f-4677-96e5-65e2f14ce374"
      },
      "source": [
        "#Create a vector with values ranging from 10 to 49 (★☆☆)\n",
        "#(hint: np.arange)\n",
        "\n",
        "y = np.arange(10,49)\n",
        "y"
      ],
      "execution_count": null,
      "outputs": [
        {
          "data": {
            "text/plain": [
              "array([10, 11, 12, 13, 14, 15, 16, 17, 18, 19, 20, 21, 22, 23, 24, 25, 26,\n",
              "       27, 28, 29, 30, 31, 32, 33, 34, 35, 36, 37, 38, 39, 40, 41, 42, 43,\n",
              "       44, 45, 46, 47, 48])"
            ]
          },
          "execution_count": 14,
          "metadata": {},
          "output_type": "execute_result"
        }
      ]
    },
    {
      "cell_type": "code",
      "metadata": {
        "colab": {
          "base_uri": "https://localhost:8080/"
        },
        "id": "azkjab7wxZOO",
        "outputId": "8693d5ee-6d92-49ba-89fd-6c99adfb3bb1"
      },
      "source": [
        "#8. Reverse a vector (first element becomes last) (★☆☆)\n",
        "#(hint: array[::-1])\n",
        "y = np.arange(10,49)\n",
        "y1=y[::-1]\n",
        "y1\n",
        "\n"
      ],
      "execution_count": null,
      "outputs": [
        {
          "data": {
            "text/plain": [
              "array([48, 47, 46, 45, 44, 43, 42, 41, 40, 39, 38, 37, 36, 35, 34, 33, 32,\n",
              "       31, 30, 29, 28, 27, 26, 25, 24, 23, 22, 21, 20, 19, 18, 17, 16, 15,\n",
              "       14, 13, 12, 11, 10])"
            ]
          },
          "execution_count": 16,
          "metadata": {},
          "output_type": "execute_result"
        }
      ]
    },
    {
      "cell_type": "code",
      "metadata": {
        "colab": {
          "base_uri": "https://localhost:8080/"
        },
        "id": "ooIGuS2kxZSV",
        "outputId": "e1e31ccc-b62a-4036-ad69-9c2da0b547ad"
      },
      "source": [
        "#9.Create a 3x3 matrix with values ranging from 0 to 8 (★☆☆)\n",
        "#(hint: reshape)\n",
        "z = np.arange(0,9)\n",
        "w = z.reshape(3,3)\n",
        "w\n"
      ],
      "execution_count": null,
      "outputs": [
        {
          "data": {
            "text/plain": [
              "array([[0, 1, 2],\n",
              "       [3, 4, 5],\n",
              "       [6, 7, 8]])"
            ]
          },
          "execution_count": 23,
          "metadata": {},
          "output_type": "execute_result"
        }
      ]
    },
    {
      "cell_type": "code",
      "metadata": {
        "colab": {
          "base_uri": "https://localhost:8080/"
        },
        "id": "-d2_D-Y9uCI-",
        "outputId": "a86544d2-e989-4e06-dad7-25a322e177e9"
      },
      "source": [
        "#10. Find indices of non-zero elements from [1,2,0,0,4,0]\n",
        "#(hint: np.nonzero)\n",
        "x = [1,2,0,0,4,0]\n",
        "np.nonzero(x)"
      ],
      "execution_count": null,
      "outputs": [
        {
          "data": {
            "text/plain": [
              "(array([0, 1, 4]),)"
            ]
          },
          "execution_count": 24,
          "metadata": {},
          "output_type": "execute_result"
        }
      ]
    },
    {
      "cell_type": "code",
      "metadata": {
        "colab": {
          "base_uri": "https://localhost:8080/"
        },
        "id": "e-HOdKV1uCM0",
        "outputId": "87f76c87-e5af-49a9-e259-88ebc33441b6"
      },
      "source": [
        "#11. Create a 3x3 identity matrix \n",
        "#(hint: np.eye)\n",
        "w = np.eye(3)\n",
        "w"
      ],
      "execution_count": null,
      "outputs": [
        {
          "data": {
            "text/plain": [
              "array([[1., 0., 0.],\n",
              "       [0., 1., 0.],\n",
              "       [0., 0., 1.]])"
            ]
          },
          "execution_count": 25,
          "metadata": {},
          "output_type": "execute_result"
        }
      ]
    },
    {
      "cell_type": "code",
      "metadata": {
        "colab": {
          "base_uri": "https://localhost:8080/"
        },
        "id": "CJdUhjoyuCRN",
        "outputId": "4dbe5266-d1ab-4096-e8bd-146c8de73f96"
      },
      "source": [
        "#12. Create a 3x3x3 array with random values \n",
        "#(hint: np.random.random)\n",
        "x = np.random.randn(3,3,3)\n",
        "x"
      ],
      "execution_count": null,
      "outputs": [
        {
          "data": {
            "text/plain": [
              "array([[[-1.6490123 , -0.87571325,  1.20825984],\n",
              "        [-0.07871069, -2.05238792, -0.42825055],\n",
              "        [-1.46962304,  0.34522029, -1.49041684]],\n",
              "\n",
              "       [[ 1.65607048, -1.28395842,  0.07129066],\n",
              "        [ 0.08503484,  2.07831869,  1.2109832 ],\n",
              "        [ 1.45045957,  0.80092139,  1.54888663]],\n",
              "\n",
              "       [[-1.68477287,  0.68994969, -1.16622367],\n",
              "        [-0.68061923, -0.18305824,  0.35941502],\n",
              "        [ 0.85465026, -0.02193239,  1.45948818]]])"
            ]
          },
          "execution_count": 29,
          "metadata": {},
          "output_type": "execute_result"
        }
      ]
    },
    {
      "cell_type": "code",
      "metadata": {
        "colab": {
          "base_uri": "https://localhost:8080/"
        },
        "id": "8edIRnIs1A3p",
        "outputId": "0d10129a-1e61-4012-fd7c-bf37f58a603c"
      },
      "source": [
        "#13. Create a 10x10 array with random values and find the minimum and maximum values (★☆☆)\n",
        "#(hint: min, max)\n",
        "x = np.random.randn(10,10)\n",
        "\n",
        "w = np.max(x)\n",
        "w\n"
      ],
      "execution_count": null,
      "outputs": [
        {
          "data": {
            "text/plain": [
              "2.0806701087532784"
            ]
          },
          "execution_count": 33,
          "metadata": {},
          "output_type": "execute_result"
        }
      ]
    },
    {
      "cell_type": "code",
      "metadata": {
        "colab": {
          "base_uri": "https://localhost:8080/"
        },
        "id": "i9bRd13d1A63",
        "outputId": "20bbd617-9156-49db-8440-15bc39d87245"
      },
      "source": [
        "y = np.min(x)\n",
        "y"
      ],
      "execution_count": null,
      "outputs": [
        {
          "data": {
            "text/plain": [
              "-2.3899591775006557"
            ]
          },
          "execution_count": 34,
          "metadata": {},
          "output_type": "execute_result"
        }
      ]
    },
    {
      "cell_type": "code",
      "metadata": {
        "colab": {
          "base_uri": "https://localhost:8080/"
        },
        "id": "ZE6Ed6w01A9-",
        "outputId": "e2656635-7896-47d9-e0c6-cb8443393ded"
      },
      "source": [
        "#14. Create a random vector of size 30 and find the mean value (★☆☆)\n",
        "#(hint: mean)\n",
        "x = np.random.randn(30)\n",
        "np.mean(x)"
      ],
      "execution_count": null,
      "outputs": [
        {
          "data": {
            "text/plain": [
              "0.011739751670805348"
            ]
          },
          "execution_count": 36,
          "metadata": {},
          "output_type": "execute_result"
        }
      ]
    },
    {
      "cell_type": "code",
      "metadata": {
        "colab": {
          "base_uri": "https://localhost:8080/"
        },
        "id": "hDpbbP2Z1BBG",
        "outputId": "cdfc5010-ca68-40d7-c6fc-9937c83f3310"
      },
      "source": [
        "#15. Create a 2d array with 1 on the border and 0 inside (★☆☆)\n",
        "#(hint: array[1:-1, 1:-1])\n",
        "x = np.ones((5,5))\n",
        "x[1:-1,1:-1] = 0\n",
        "print(x)\n"
      ],
      "execution_count": null,
      "outputs": [
        {
          "name": "stdout",
          "output_type": "stream",
          "text": [
            "[[1. 1. 1. 1. 1.]\n",
            " [1. 0. 0. 0. 1.]\n",
            " [1. 0. 0. 0. 1.]\n",
            " [1. 0. 0. 0. 1.]\n",
            " [1. 1. 1. 1. 1.]]\n"
          ]
        }
      ]
    },
    {
      "cell_type": "code",
      "metadata": {
        "colab": {
          "base_uri": "https://localhost:8080/"
        },
        "id": "2f09LEas1BDq",
        "outputId": "518d36ef-9c4f-495f-9417-1e4afef54204"
      },
      "source": [
        "#16. How to add a border (filled with 0's) around an existing array? \n",
        "#(hint: np.pad)\n",
        "x= np.ones((3,3))\n",
        "print(x)\n",
        "x = np.pad(x,pad_width = 1,mode = 'constant',constant_values = '0')\n",
        "print(x)"
      ],
      "execution_count": null,
      "outputs": [
        {
          "name": "stdout",
          "output_type": "stream",
          "text": [
            "[[1. 1. 1.]\n",
            " [1. 1. 1.]\n",
            " [1. 1. 1.]]\n",
            "[[0. 0. 0. 0. 0.]\n",
            " [0. 1. 1. 1. 0.]\n",
            " [0. 1. 1. 1. 0.]\n",
            " [0. 1. 1. 1. 0.]\n",
            " [0. 0. 0. 0. 0.]]\n"
          ]
        }
      ]
    },
    {
      "cell_type": "code",
      "metadata": {
        "colab": {
          "base_uri": "https://localhost:8080/"
        },
        "id": "EEol3oHs1BGN",
        "outputId": "9e229521-8b4b-48cf-80cc-23990db6ca6c"
      },
      "source": [
        "#18. Create a 5x5 matrix with values 1,2,3,4 just below the diagonal \n",
        "x = np.diag(1+np.arange(5),k = -1)\n",
        "x"
      ],
      "execution_count": null,
      "outputs": [
        {
          "data": {
            "text/plain": [
              "array([[0, 0, 0, 0, 0, 0],\n",
              "       [1, 0, 0, 0, 0, 0],\n",
              "       [0, 2, 0, 0, 0, 0],\n",
              "       [0, 0, 3, 0, 0, 0],\n",
              "       [0, 0, 0, 4, 0, 0],\n",
              "       [0, 0, 0, 0, 5, 0]])"
            ]
          },
          "execution_count": 50,
          "metadata": {},
          "output_type": "execute_result"
        }
      ]
    },
    {
      "cell_type": "code",
      "metadata": {
        "colab": {
          "base_uri": "https://localhost:8080/"
        },
        "id": "_B5JNuwh1BJT",
        "outputId": "08aec80b-8585-4855-af93-f40bdab4091e"
      },
      "source": [
        "#19. Create a 8x8 matrix and fill it with a checkerboard pattern \n",
        "#(hint: array[::2])\n",
        "x = np.zeros((8,8))\n",
        "x[1::2, ::2] = 1\n",
        "x[::2, 1::2] = 1\n",
        "print(x)\n",
        "\n"
      ],
      "execution_count": null,
      "outputs": [
        {
          "name": "stdout",
          "output_type": "stream",
          "text": [
            "[[0. 1. 0. 1. 0. 1. 0. 1.]\n",
            " [1. 0. 1. 0. 1. 0. 1. 0.]\n",
            " [0. 1. 0. 1. 0. 1. 0. 1.]\n",
            " [1. 0. 1. 0. 1. 0. 1. 0.]\n",
            " [0. 1. 0. 1. 0. 1. 0. 1.]\n",
            " [1. 0. 1. 0. 1. 0. 1. 0.]\n",
            " [0. 1. 0. 1. 0. 1. 0. 1.]\n",
            " [1. 0. 1. 0. 1. 0. 1. 0.]]\n"
          ]
        }
      ]
    },
    {
      "cell_type": "code",
      "metadata": {
        "colab": {
          "base_uri": "https://localhost:8080/"
        },
        "id": "lo0JLPvg9oFv",
        "outputId": "58e2973e-bc6c-4469-844b-bb60eff215a4"
      },
      "source": [
        "#. Consider a (6,7,8) shape array, what is the index (x,y,z) of the 100th element?\n",
        "#(hint: np.unravel_index)\n",
        "x = np.unravel_index(100,(6,7,8))\n",
        "x"
      ],
      "execution_count": null,
      "outputs": [
        {
          "data": {
            "text/plain": [
              "(1, 5, 4)"
            ]
          },
          "execution_count": 58,
          "metadata": {},
          "output_type": "execute_result"
        }
      ]
    },
    {
      "cell_type": "code",
      "metadata": {
        "colab": {
          "base_uri": "https://localhost:8080/"
        },
        "id": "OwlT8oCl9pDK",
        "outputId": "621b30d2-9c4d-4ab6-f2a2-a54c04f09373"
      },
      "source": [
        "#21. Create a checkerboard 8x8 matrix using the tile function (★☆☆)\n",
        "#(hint: np.tile)\n",
        "x = np.array([[0,1],[1,0]])\n",
        "w = np.tile(x,(4,4))\n",
        "w"
      ],
      "execution_count": null,
      "outputs": [
        {
          "data": {
            "text/plain": [
              "array([[0, 1, 0, 1, 0, 1, 0, 1],\n",
              "       [1, 0, 1, 0, 1, 0, 1, 0],\n",
              "       [0, 1, 0, 1, 0, 1, 0, 1],\n",
              "       [1, 0, 1, 0, 1, 0, 1, 0],\n",
              "       [0, 1, 0, 1, 0, 1, 0, 1],\n",
              "       [1, 0, 1, 0, 1, 0, 1, 0],\n",
              "       [0, 1, 0, 1, 0, 1, 0, 1],\n",
              "       [1, 0, 1, 0, 1, 0, 1, 0]])"
            ]
          },
          "execution_count": 64,
          "metadata": {},
          "output_type": "execute_result"
        }
      ]
    },
    {
      "cell_type": "code",
      "metadata": {
        "colab": {
          "base_uri": "https://localhost:8080/"
        },
        "id": "n10m2XcO9oJJ",
        "outputId": "a1375605-c0ae-47b3-92ed-927d3597a8d8"
      },
      "source": [
        "#22. Normalize a 5x5 random matrix (★☆☆)\n",
        "#(hint: (x - min) / (max - min))\n",
        "x = np.random.randn(5,5)\n",
        "y = x - (np.min(x))\n",
        "z = np.max(x)-np.min(x)\n",
        "q = y/x\n",
        "q"
      ],
      "execution_count": null,
      "outputs": [
        {
          "data": {
            "text/plain": [
              "array([[  2.97047943,   2.25500657,  -0.68611094,  -0.2307605 ,\n",
              "          8.72477695],\n",
              "       [  2.07275023,   1.99546586,   2.59293206,   2.56400408,\n",
              "         -2.59017935],\n",
              "       [  3.88200669,  -0.1615853 ,  -3.04591014,  -0.52399267,\n",
              "          3.43672164],\n",
              "       [ 17.89828369,  -0.        , -25.20733827,  -1.09332408,\n",
              "         -1.79062151],\n",
              "       [ -0.52561393,  -0.30484007,   3.12903135,   1.78884512,\n",
              "          1.61658729]])"
            ]
          },
          "execution_count": 67,
          "metadata": {},
          "output_type": "execute_result"
        }
      ]
    },
    {
      "cell_type": "code",
      "metadata": {
        "colab": {
          "base_uri": "https://localhost:8080/"
        },
        "id": "VSkFpJEN9oM7",
        "outputId": "316f1659-15fc-4db2-e3a6-3b6d00e39897"
      },
      "source": [
        "#Create a custom dtype that describes a color as four unsigned bytes (RGBA) (★☆☆)\n",
        "#(hint: np.dtype)\n",
        "x = np.dtype([(\"r\",np.ubyte),\n",
        "             (\"g\",np.ubyte),\n",
        "             (\"b\",np.ubyte),\n",
        "             (\"a\",np.ubyte)])\n",
        "print(x)"
      ],
      "execution_count": null,
      "outputs": [
        {
          "name": "stdout",
          "output_type": "stream",
          "text": [
            "[('r', 'u1'), ('g', 'u1'), ('b', 'u1'), ('a', 'u1')]\n"
          ]
        }
      ]
    },
    {
      "cell_type": "code",
      "metadata": {
        "colab": {
          "base_uri": "https://localhost:8080/"
        },
        "id": "5-MbXPjm9oQY",
        "outputId": "71338519-346e-4667-e9ca-ce8e6c637e0c"
      },
      "source": [
        "#24.Multiply a 5x3 matrix by a 3x2 matrix (real matrix product) (★☆☆)\n",
        "#(hint: np.dot | @)\n",
        "x=np.dot(np.ones((5,3)), np.ones((3,2)))\n",
        "x"
      ],
      "execution_count": null,
      "outputs": [
        {
          "data": {
            "text/plain": [
              "array([[3., 3.],\n",
              "       [3., 3.],\n",
              "       [3., 3.],\n",
              "       [3., 3.],\n",
              "       [3., 3.]])"
            ]
          },
          "execution_count": 74,
          "metadata": {},
          "output_type": "execute_result"
        }
      ]
    },
    {
      "cell_type": "code",
      "metadata": {
        "colab": {
          "base_uri": "https://localhost:8080/"
        },
        "id": "VO0jVLVj9oTM",
        "outputId": "7dd119d3-89ca-484a-c21e-a4b8c8816ffb"
      },
      "source": [
        "#25. Given a 1D array, negate all elements which are between 3 and 8, in place. \n",
        "#(hint: >, <=)\n",
        "\n",
        "x = np.arange(15)\n",
        "x[(x>3)&(8<=x)] *= -1\n",
        "x"
      ],
      "execution_count": null,
      "outputs": [
        {
          "data": {
            "text/plain": [
              "array([  0,   1,   2,   3,   4,   5,   6,   7,  -8,  -9, -10, -11, -12,\n",
              "       -13, -14])"
            ]
          },
          "execution_count": 86,
          "metadata": {},
          "output_type": "execute_result"
        }
      ]
    },
    {
      "cell_type": "code",
      "metadata": {
        "colab": {
          "base_uri": "https://localhost:8080/"
        },
        "id": "XZZtwZQT9oWj",
        "outputId": "9f2f3cad-248a-4272-9385-75a23551d702"
      },
      "source": [
        "#26. What is the output of the following script? (★☆☆)\n",
        "#(hint: np.sum)\n",
        "x = np.arange(5)\n",
        "np.sum(x)"
      ],
      "execution_count": null,
      "outputs": [
        {
          "data": {
            "text/plain": [
              "10"
            ]
          },
          "execution_count": 87,
          "metadata": {},
          "output_type": "execute_result"
        }
      ]
    },
    {
      "cell_type": "code",
      "metadata": {
        "colab": {
          "base_uri": "https://localhost:8080/"
        },
        "id": "3fM_TB2T9oZ2",
        "outputId": "ad281786-9898-4187-cc5a-43da58eeca54"
      },
      "source": [
        "#29. How to round away from zero a float array ? (★☆☆)\n",
        "#(hint: np.uniform, np.copysign, np.ceil, np.abs)\n",
        "x = np.random.uniform(4 ,-5, 6)\n",
        "print(np.copysign(np.ceil(np.abs(x)), x))\n"
      ],
      "execution_count": null,
      "outputs": [
        {
          "name": "stdout",
          "output_type": "stream",
          "text": [
            "[-1. -2.  1. -5.  2.  4.]\n"
          ]
        }
      ]
    },
    {
      "cell_type": "code",
      "metadata": {
        "colab": {
          "base_uri": "https://localhost:8080/"
        },
        "id": "AKLHiNMOPpVA",
        "outputId": "f0094c48-fc9b-476b-bd16-86de0a406871"
      },
      "source": [
        "#30. How to find common values between two arrays? (★☆☆)\n",
        "#(hint: np.intersect1d)\n",
        "x = np.random.randint(3,4,4)\n",
        "y = np.random.randint(3,4,4)\n",
        "np.intersect1d(x,y)"
      ],
      "execution_count": null,
      "outputs": [
        {
          "data": {
            "text/plain": [
              "array([3])"
            ]
          },
          "execution_count": 101,
          "metadata": {},
          "output_type": "execute_result"
        }
      ]
    },
    {
      "cell_type": "code",
      "metadata": {
        "id": "sNkuV94NPpZr"
      },
      "source": [
        "#31. How to ignore all numpy warnings (not recommended)? (★☆☆)\n",
        "#(hint: np.seterr, np.errstate)\n",
        "defaults = np.seterr(all=\"ignore\")\n",
        "\n",
        "_ = np.seterr(**defaults)\n",
        "\n",
        "with np.errstate(all=\"ignore\"):\n",
        "    \n",
        "\n"
      ],
      "execution_count": null,
      "outputs": []
    },
    {
      "cell_type": "code",
      "metadata": {
        "colab": {
          "base_uri": "https://localhost:8080/"
        },
        "id": "t_M4C5sSPpef",
        "outputId": "f8846904-42bd-4df1-8b4f-7a9597841f4f"
      },
      "source": [
        "#33. How to get the dates of yesterday, today and tomorrow? (★☆☆)\n",
        "#(hint: np.datetime64, np.timedelta64)\n",
        "today = np.datetime64('today')\n",
        "yesterday = np.datetime64('today')-np.timedelta64(1)\n",
        "tomaro = np.datetime64('today')+np.timedelta64(1)\n",
        "print(today)\n",
        "print(yesterday)\n",
        "print(tomaro)"
      ],
      "execution_count": null,
      "outputs": [
        {
          "name": "stdout",
          "output_type": "stream",
          "text": [
            "2021-09-21\n",
            "2021-09-20\n",
            "2021-09-22\n"
          ]
        }
      ]
    },
    {
      "cell_type": "code",
      "metadata": {
        "colab": {
          "base_uri": "https://localhost:8080/"
        },
        "id": "MG_ovfyoVGX1",
        "outputId": "2a19e40b-5775-4ceb-f4b9-338f56b07567"
      },
      "source": [
        "#34. How to get all the dates corresponding to the month of July 2016? (★★☆)\n",
        "#(hint: np.arange(dtype=datetime64['D']))\n",
        "x = np.arange('2016-07','2016-08',dtype='datetime64[D]')\n",
        "print(x)"
      ],
      "execution_count": null,
      "outputs": [
        {
          "name": "stdout",
          "output_type": "stream",
          "text": [
            "['2016-07-01' '2016-07-02' '2016-07-03' '2016-07-04' '2016-07-05'\n",
            " '2016-07-06' '2016-07-07' '2016-07-08' '2016-07-09' '2016-07-10'\n",
            " '2016-07-11' '2016-07-12' '2016-07-13' '2016-07-14' '2016-07-15'\n",
            " '2016-07-16' '2016-07-17' '2016-07-18' '2016-07-19' '2016-07-20'\n",
            " '2016-07-21' '2016-07-22' '2016-07-23' '2016-07-24' '2016-07-25'\n",
            " '2016-07-26' '2016-07-27' '2016-07-28' '2016-07-29' '2016-07-30'\n",
            " '2016-07-31']\n"
          ]
        }
      ]
    },
    {
      "cell_type": "code",
      "metadata": {
        "colab": {
          "base_uri": "https://localhost:8080/"
        },
        "id": "-guSTwtoWNaz",
        "outputId": "3a937686-4bb1-4efb-c7f2-cdabb3a1ebfb"
      },
      "source": [
        "#35. How to compute ((A+B)*(-A/2)) in place (without copy)? (★★☆)\n",
        "#(hint: np.add(out=), np.negative(out=), np.multiply(out=), np.divide(out=))\n",
        "a = np.ones(2)*3\n",
        "b = np.ones(2)*2\n",
        "np.add(a,b,out =b )\n",
        "np.negative(a,out = a)\n",
        "np.divide(a,2,out = a)\n",
        "np.multiply(a,b,out=a)\n",
        "\n"
      ],
      "execution_count": null,
      "outputs": [
        {
          "data": {
            "text/plain": [
              "array([-7.5, -7.5])"
            ]
          },
          "execution_count": 124,
          "metadata": {},
          "output_type": "execute_result"
        }
      ]
    },
    {
      "cell_type": "code",
      "metadata": {
        "colab": {
          "base_uri": "https://localhost:8080/"
        },
        "id": "zjPjqeWtWNfB",
        "outputId": "0f27f3b2-00a9-49d5-b832-abc437df37cc"
      },
      "source": [
        "#36. Extract the integer part of a random array using 5 different methods (★★☆) \n",
        "#(**hint**: %, np.floor, np.ceil, astype, np.trunc)\n",
        "x = np.random.uniform(0,5,5)\n",
        "print(x%x)\n",
        "print(np.floor(x))\n",
        "print(np.ceil(x))\n",
        "print(x.astype(int))\n",
        "print(np.floor(x))"
      ],
      "execution_count": null,
      "outputs": [
        {
          "name": "stdout",
          "output_type": "stream",
          "text": [
            "[0. 0. 0. 0. 0.]\n",
            "[2. 0. 0. 0. 1.]\n",
            "[3. 1. 1. 1. 2.]\n",
            "[2 0 0 0 1]\n",
            "[2. 0. 0. 0. 1.]\n"
          ]
        }
      ]
    },
    {
      "cell_type": "code",
      "metadata": {
        "colab": {
          "base_uri": "https://localhost:8080/"
        },
        "id": "b-nTtJseWOMI",
        "outputId": "e7afcc57-afee-47da-a097-f9b9aaeb1007"
      },
      "source": [
        "#37. Create a 5x5 matrix with row values ranging from 0 to 4 (★★☆)\n",
        "#(hint: np.arange)\n",
        "x = np.zeros((5,5))\n",
        "x+=np.arange(5)\n",
        "x"
      ],
      "execution_count": null,
      "outputs": [
        {
          "data": {
            "text/plain": [
              "array([[0., 1., 2., 3., 4.],\n",
              "       [0., 1., 2., 3., 4.],\n",
              "       [0., 1., 2., 3., 4.],\n",
              "       [0., 1., 2., 3., 4.],\n",
              "       [0., 1., 2., 3., 4.]])"
            ]
          },
          "execution_count": 136,
          "metadata": {},
          "output_type": "execute_result"
        }
      ]
    },
    {
      "cell_type": "code",
      "metadata": {
        "colab": {
          "base_uri": "https://localhost:8080/"
        },
        "id": "oEu2X6opWOWj",
        "outputId": "edb8bcc4-edd9-44f5-fa5a-39aff8de99aa"
      },
      "source": [
        "#38. Consider a generator function that generates 10 integers and use it to build an array (★☆☆)\n",
        "#(hint: np.fromiter)\n",
        "def generator():\n",
        "  for x in range(10):\n",
        "    yield x\n",
        "x1 = np.fromiter(generator(),dtype =float,count = -1)\n",
        "x1"
      ],
      "execution_count": null,
      "outputs": [
        {
          "data": {
            "text/plain": [
              "array([0., 1., 2., 3., 4., 5., 6., 7., 8., 9.])"
            ]
          },
          "execution_count": 142,
          "metadata": {},
          "output_type": "execute_result"
        }
      ]
    },
    {
      "cell_type": "code",
      "metadata": {
        "colab": {
          "base_uri": "https://localhost:8080/"
        },
        "id": "Xp1H6m7OVGbj",
        "outputId": "4570d99c-3905-4742-f749-1aa67bae27e9"
      },
      "source": [
        "#39. Create a vector of size 10 with values ranging from 0 to 1, both excluded (★★☆)\n",
        "#hint: np.linspace)\n",
        "x= np.linspace(0,1,11,endpoint=False)[1:]\n",
        "print(x)"
      ],
      "execution_count": null,
      "outputs": [
        {
          "name": "stdout",
          "output_type": "stream",
          "text": [
            "[0.09090909 0.18181818 0.27272727 0.36363636 0.45454545 0.54545455\n",
            " 0.63636364 0.72727273 0.81818182 0.90909091]\n"
          ]
        }
      ]
    },
    {
      "cell_type": "code",
      "metadata": {
        "colab": {
          "base_uri": "https://localhost:8080/"
        },
        "id": "BfC4hvv0VGe7",
        "outputId": "6eefd236-d79c-4097-9219-35fdf3510356"
      },
      "source": [
        "#40. Create a random vector of size 10 and sort it (★★☆)\n",
        "#(hint: sort)\n",
        "x = np.random.randn(10)\n",
        "x.sort()\n",
        "x"
      ],
      "execution_count": null,
      "outputs": [
        {
          "data": {
            "text/plain": [
              "array([-0.85389051, -0.33521354, -0.09684969,  0.0709503 ,  0.24342202,\n",
              "        0.58941184,  0.61890941,  0.77320639,  0.96273638,  1.39118172])"
            ]
          },
          "execution_count": 146,
          "metadata": {},
          "output_type": "execute_result"
        }
      ]
    },
    {
      "cell_type": "code",
      "metadata": {
        "colab": {
          "base_uri": "https://localhost:8080/"
        },
        "id": "xgW0GL5OPpl8",
        "outputId": "2ea39792-0012-482a-802d-45bbff066574"
      },
      "source": [
        "#41. How to sum a small array faster than np.sum? (★★☆)\n",
        "#(hint: np.add.reduce)\n",
        "x = np.arange(10)\n",
        "np.add.reduce(x)"
      ],
      "execution_count": null,
      "outputs": [
        {
          "data": {
            "text/plain": [
              "45"
            ]
          },
          "execution_count": 147,
          "metadata": {},
          "output_type": "execute_result"
        }
      ]
    },
    {
      "cell_type": "code",
      "metadata": {
        "colab": {
          "base_uri": "https://localhost:8080/"
        },
        "id": "WxmjLFAjjJy3",
        "outputId": "ae88d56d-c5ae-4291-b5fc-f3f74706dbcb"
      },
      "source": [
        "#42. Consider two random array A and B, check if they are equal (★★☆)\n",
        "#(hint: np.allclose, np.array_equal)\n",
        "a = np.random.randint(2,3)\n",
        "b = np.random.randint(2,3)\n",
        "a1 = np.array_equal(a,b)\n",
        "a1\n",
        "a2 = np.allclose(a,b)\n",
        "a2\n",
        "\n"
      ],
      "execution_count": null,
      "outputs": [
        {
          "data": {
            "text/plain": [
              "True"
            ]
          },
          "execution_count": 5,
          "metadata": {},
          "output_type": "execute_result"
        }
      ]
    },
    {
      "cell_type": "code",
      "metadata": {
        "id": "FI-B1CBBjJ3K"
      },
      "source": [
        "#43. Make an array immutable (read-only) (★★☆)\n",
        "#(hint: flags.writeable)\n",
        "x = np.zeros(5)\n",
        "x.flags.writeable = False\n",
        "\n",
        "\n"
      ],
      "execution_count": null,
      "outputs": []
    },
    {
      "cell_type": "code",
      "metadata": {
        "colab": {
          "base_uri": "https://localhost:8080/"
        },
        "id": "r8xIcU7cjJ7R",
        "outputId": "9d817c46-8470-481c-beda-79119395deee"
      },
      "source": [
        "#44. Consider a random 10x2 matrix representing cartesian coordinates, convert them to polar coordinates (★★☆)\n",
        "#(hint: np.sqrt, np.arctan2)\n",
        "x = np.random.random((10,2))\n",
        "c,d = x[:,0],x[:,1]\n",
        "a = np.sqrt(c**2+d**2)\n",
        "b = np.arctan2(c,d)\n",
        "print(a)\n",
        "print(b)"
      ],
      "execution_count": null,
      "outputs": [
        {
          "name": "stdout",
          "output_type": "stream",
          "text": [
            "[0.81090892 0.11199056 0.72321563 0.80860428 1.10475337 0.8278803\n",
            " 0.18276426 0.33698574 0.66522596 0.7543025 ]\n",
            "[0.02534787 0.73298568 1.31721659 1.49261379 0.94252449 0.82160846\n",
            " 1.39393531 1.56823641 1.33075188 0.64597909]\n"
          ]
        }
      ]
    },
    {
      "cell_type": "code",
      "metadata": {
        "colab": {
          "base_uri": "https://localhost:8080/"
        },
        "id": "6QDaRXqjMOs4",
        "outputId": "c5b1605c-78bb-4108-f630-8c44249882e7"
      },
      "source": [
        "#45. Create random vector of size 10 and replace the maximum value by 0 (★★☆)\n",
        "#(hint: argmax)\n",
        "x = np.random.randn(10)\n",
        "x[x.argmax()]= 0\n",
        "x\n"
      ],
      "execution_count": null,
      "outputs": [
        {
          "data": {
            "text/plain": [
              "array([-0.44379821,  0.24120146, -0.06314062,  0.        ,  0.49493614,\n",
              "        1.42394244,  0.40349258,  0.56300077, -0.2309812 , -0.0357515 ])"
            ]
          },
          "execution_count": 17,
          "metadata": {},
          "output_type": "execute_result"
        }
      ]
    },
    {
      "cell_type": "code",
      "metadata": {
        "colab": {
          "base_uri": "https://localhost:8080/"
        },
        "id": "fWo2i5snMOxF",
        "outputId": "121c06c2-33ea-45ef-fe51-ceff9dc24867"
      },
      "source": [
        "#46. Create a structured array with x and y coordinates covering the [0,1]x[0,1] area (★★☆)\n",
        "#(hint: np.meshgrid)\n",
        "x = np.zeros((3,3),[('a',float),('b',float)])\n",
        "x['a'],x['b'] = np.meshgrid(np.linspace(0,1,3),np.linspace(0,1,3))\n",
        "x"
      ],
      "execution_count": null,
      "outputs": [
        {
          "data": {
            "text/plain": [
              "array([[(0. , 0. ), (0.5, 0. ), (1. , 0. )],\n",
              "       [(0. , 0.5), (0.5, 0.5), (1. , 0.5)],\n",
              "       [(0. , 1. ), (0.5, 1. ), (1. , 1. )]],\n",
              "      dtype=[('a', '<f8'), ('b', '<f8')])"
            ]
          },
          "execution_count": 22,
          "metadata": {},
          "output_type": "execute_result"
        }
      ]
    },
    {
      "cell_type": "code",
      "metadata": {
        "id": "NzWRMXEXMO21"
      },
      "source": [
        "#47. Given two arrays, X and Y, construct the Cauchy matrix C (Cij =1/(xi - yj))\n",
        "#(hint: np.subtract.outer)\n",
        "x  = np.arange(8)\n",
        "y = x +2\n",
        "c = 1/ np.subtract.outer(x,y)\n",
        "c\n",
        "\n"
      ],
      "execution_count": null,
      "outputs": []
    },
    {
      "cell_type": "code",
      "metadata": {
        "id": "zZPqhmQNMO6Z"
      },
      "source": [
        "#48. Print the minimum and maximum representable value for each numpy scalar type (★★☆)\n",
        "#(hint: np.iinfo, np.finfo, eps)\n",
        "  \n",
        "for dtype in [np.int8, np.int32, np.int64]:\n",
        "   print(np.iinfo(dtype).min)\n",
        "   print(np.iinfo(dtype).max)\n",
        "for dtype in [np.float32, np.float64]:\n",
        "   print(np.finfo(dtype).min)\n",
        "   print(np.finfo(dtype).max)\n",
        "   print(np.finfo(dtype).eps)"
      ],
      "execution_count": null,
      "outputs": []
    },
    {
      "cell_type": "code",
      "metadata": {
        "id": "wtPY46eVMO9i"
      },
      "source": [
        "#49. How to print all the values of an array? (★★☆)\n",
        "#(hint: np.set_printoptions)\n",
        "import numpy as np\n",
        "np.set_printoptions(threshold=np.inf)"
      ],
      "execution_count": null,
      "outputs": []
    },
    {
      "cell_type": "code",
      "metadata": {
        "colab": {
          "base_uri": "https://localhost:8080/"
        },
        "id": "ohhllVm5MPBT",
        "outputId": "6ad60071-d704-4134-c897-1813f598d8c3"
      },
      "source": [
        "#50. How to find the closest value (to a given scalar) in a vector? (★★☆)\n",
        "#hint: argmin\n",
        "x = np.arange(10)\n",
        "y = 5\n",
        "diff =np.absolute(x-y)\n",
        "z = diff.argmin()\n",
        "x[z]"
      ],
      "execution_count": null,
      "outputs": [
        {
          "data": {
            "text/plain": [
              "5"
            ]
          },
          "execution_count": 5,
          "metadata": {},
          "output_type": "execute_result"
        }
      ]
    },
    {
      "cell_type": "code",
      "metadata": {
        "colab": {
          "base_uri": "https://localhost:8080/"
        },
        "id": "5LtQUTLMWZ_T",
        "outputId": "a5630a83-1b0c-441e-de16-a2d2ecf0765c"
      },
      "source": [
        "#51. Create a structured array representing a position (x,y) and a color (r,g,b) (★★☆)\n",
        "#hint: dtype\n",
        "x = np.zeros(10,[ ('position',[('x', float,1),\n",
        "                              ('y',float,1)]),\n",
        "                   ('color',[('r',float,1),\n",
        "                            ('g',float,1),\n",
        "                            ('b',float,1)] )])\n",
        "x"
      ],
      "execution_count": null,
      "outputs": [
        {
          "name": "stderr",
          "output_type": "stream",
          "text": [
            "/usr/local/lib/python3.7/dist-packages/ipykernel_launcher.py:7: FutureWarning: Passing (type, 1) or '1type' as a synonym of type is deprecated; in a future version of numpy, it will be understood as (type, (1,)) / '(1,)type'.\n",
            "  import sys\n"
          ]
        },
        {
          "data": {
            "text/plain": [
              "array([((0., 0.), (0., 0., 0.)), ((0., 0.), (0., 0., 0.)),\n",
              "       ((0., 0.), (0., 0., 0.)), ((0., 0.), (0., 0., 0.)),\n",
              "       ((0., 0.), (0., 0., 0.)), ((0., 0.), (0., 0., 0.)),\n",
              "       ((0., 0.), (0., 0., 0.)), ((0., 0.), (0., 0., 0.)),\n",
              "       ((0., 0.), (0., 0., 0.)), ((0., 0.), (0., 0., 0.))],\n",
              "      dtype=[('position', [('x', '<f8'), ('y', '<f8')]), ('color', [('r', '<f8'), ('g', '<f8'), ('b', '<f8')])])"
            ]
          },
          "execution_count": 9,
          "metadata": {},
          "output_type": "execute_result"
        }
      ]
    },
    {
      "cell_type": "code",
      "metadata": {
        "colab": {
          "base_uri": "https://localhost:8080/"
        },
        "id": "sZFzhMhHWaDF",
        "outputId": "de560b77-5c9f-4443-d9eb-f027358eb9c3"
      },
      "source": [
        "#52. Consider a random vector with shape (100,2) representing coordinates, find point by point distances (★★☆)\n",
        "#(hint: np.atleast_2d, T, np.sqrt)\n",
        "w = np.random.random((10,2))\n",
        "x,y = np.atleast_2d(w[:,0],w[:,1])\n",
        "d = np.sqrt((x-x.T)**2 + (y-y.T)**2)\n",
        "d\n",
        "\n"
      ],
      "execution_count": null,
      "outputs": [
        {
          "data": {
            "text/plain": [
              "array([[0.        , 0.45826219, 0.29049137, 0.67942538, 0.48600188,\n",
              "        0.68462527, 0.35073883, 0.70995167, 0.42835253, 0.40998252],\n",
              "       [0.45826219, 0.        , 0.51303659, 0.39597163, 0.37396972,\n",
              "        0.32999654, 0.60316903, 0.4361129 , 0.42408205, 0.56688346],\n",
              "       [0.29049137, 0.51303659, 0.        , 0.85341353, 0.70809889,\n",
              "        0.58769623, 0.64119362, 0.55365419, 0.21132183, 0.12007156],\n",
              "       [0.67942538, 0.39597163, 0.85341353, 0.        , 0.22936205,\n",
              "        0.67157405, 0.59623371, 0.80341879, 0.81113808, 0.93272481],\n",
              "       [0.48600188, 0.37396972, 0.70809889, 0.22936205, 0.        ,\n",
              "        0.70112209, 0.36786421, 0.80951308, 0.71932916, 0.80552975],\n",
              "       [0.68462527, 0.32999654, 0.58769623, 0.67157405, 0.70112209,\n",
              "        0.        , 0.91305634, 0.14352233, 0.39535549, 0.57224372],\n",
              "       [0.35073883, 0.60316903, 0.64119362, 0.59623371, 0.36786421,\n",
              "        0.91305634, 0.        , 0.97954829, 0.75703298, 0.76042887],\n",
              "       [0.70995167, 0.4361129 , 0.55365419, 0.80341879, 0.80951308,\n",
              "        0.14352233, 0.97954829, 0.        , 0.34403914, 0.50989825],\n",
              "       [0.42835253, 0.42408205, 0.21132183, 0.81113808, 0.71932916,\n",
              "        0.39535549, 0.75703298, 0.34403914, 0.        , 0.17725148],\n",
              "       [0.40998252, 0.56688346, 0.12007156, 0.93272481, 0.80552975,\n",
              "        0.57224372, 0.76042887, 0.50989825, 0.17725148, 0.        ]])"
            ]
          },
          "execution_count": 12,
          "metadata": {},
          "output_type": "execute_result"
        }
      ]
    },
    {
      "cell_type": "code",
      "metadata": {
        "colab": {
          "base_uri": "https://localhost:8080/"
        },
        "id": "5fMEuj4QWaHa",
        "outputId": "000d08ed-172c-4f10-96c4-98a7aaf666a1"
      },
      "source": [
        "#53. How to convert a float (32 bits) array into an integer (32 bits) in place?\n",
        "#(hint: astype(copy=False))\n",
        "\n",
        "x = np.random.rand(10).astype(np.float32)\n",
        "y = x.view(np.int32)\n",
        "y[:]= x\n",
        "y"
      ],
      "execution_count": null,
      "outputs": [
        {
          "data": {
            "text/plain": [
              "array([0, 0, 0, 0, 0, 0, 0, 0, 0, 0], dtype=int32)"
            ]
          },
          "execution_count": 24,
          "metadata": {},
          "output_type": "execute_result"
        }
      ]
    },
    {
      "cell_type": "code",
      "metadata": {
        "colab": {
          "base_uri": "https://localhost:8080/"
        },
        "id": "KEU06v1JWaLB",
        "outputId": "398be8e2-1e45-4a6d-a890-c3c2d51f29ca"
      },
      "source": [
        "import numpy as np\n",
        "#55. What is the equivalent of enumerate for numpy arrays? (★★☆)\n",
        "#(hint: np.ndenumerate, np.ndindex)\n",
        "x = np.random.random((3,3))\n",
        "\n",
        "for index in np.ndindex(x.shape):\n",
        "  print(index,x[index])\n"
      ],
      "execution_count": null,
      "outputs": [
        {
          "name": "stdout",
          "output_type": "stream",
          "text": [
            "(0, 0) 0.56608068913792\n",
            "(0, 1) 0.44299235391063074\n",
            "(0, 2) 0.8100427179064598\n",
            "(1, 0) 0.5659507698046976\n",
            "(1, 1) 0.0075629455509030885\n",
            "(1, 2) 0.07316362807171628\n",
            "(2, 0) 0.593543730982589\n",
            "(2, 1) 0.5863602816407599\n",
            "(2, 2) 0.07622559025642206\n"
          ]
        }
      ]
    },
    {
      "cell_type": "code",
      "metadata": {
        "colab": {
          "base_uri": "https://localhost:8080/"
        },
        "id": "yAss9qGqulHl",
        "outputId": "f24050e4-dbe3-45bd-b471-49eda83942e7"
      },
      "source": [
        "#56. Generate a generic 2D Gaussian-like array (★★☆)\n",
        "#(hint: np.meshgrid, np.exp)\n",
        "x,y = np.meshgrid(np.linspace(-1,1,10),np.linspace(-1,1,10))\n",
        "a = np.sqrt(x*x+y*y)\n",
        "mu,sigma = 0.0,1.0\n",
        "b = np.exp(-((a-mu)**2)/(2*sigma**2))\n",
        "b\n",
        "\n"
      ],
      "execution_count": null,
      "outputs": [
        {
          "data": {
            "text/plain": [
              "array([[0.36787944, 0.44822088, 0.51979489, 0.57375342, 0.60279818,\n",
              "        0.60279818, 0.57375342, 0.51979489, 0.44822088, 0.36787944],\n",
              "       [0.44822088, 0.54610814, 0.63331324, 0.69905581, 0.73444367,\n",
              "        0.73444367, 0.69905581, 0.63331324, 0.54610814, 0.44822088],\n",
              "       [0.51979489, 0.63331324, 0.73444367, 0.81068432, 0.85172308,\n",
              "        0.85172308, 0.81068432, 0.73444367, 0.63331324, 0.51979489],\n",
              "       [0.57375342, 0.69905581, 0.81068432, 0.89483932, 0.9401382 ,\n",
              "        0.9401382 , 0.89483932, 0.81068432, 0.69905581, 0.57375342],\n",
              "       [0.60279818, 0.73444367, 0.85172308, 0.9401382 , 0.98773022,\n",
              "        0.98773022, 0.9401382 , 0.85172308, 0.73444367, 0.60279818],\n",
              "       [0.60279818, 0.73444367, 0.85172308, 0.9401382 , 0.98773022,\n",
              "        0.98773022, 0.9401382 , 0.85172308, 0.73444367, 0.60279818],\n",
              "       [0.57375342, 0.69905581, 0.81068432, 0.89483932, 0.9401382 ,\n",
              "        0.9401382 , 0.89483932, 0.81068432, 0.69905581, 0.57375342],\n",
              "       [0.51979489, 0.63331324, 0.73444367, 0.81068432, 0.85172308,\n",
              "        0.85172308, 0.81068432, 0.73444367, 0.63331324, 0.51979489],\n",
              "       [0.44822088, 0.54610814, 0.63331324, 0.69905581, 0.73444367,\n",
              "        0.73444367, 0.69905581, 0.63331324, 0.54610814, 0.44822088],\n",
              "       [0.36787944, 0.44822088, 0.51979489, 0.57375342, 0.60279818,\n",
              "        0.60279818, 0.57375342, 0.51979489, 0.44822088, 0.36787944]])"
            ]
          },
          "execution_count": 15,
          "metadata": {},
          "output_type": "execute_result"
        }
      ]
    },
    {
      "cell_type": "code",
      "metadata": {
        "colab": {
          "base_uri": "https://localhost:8080/"
        },
        "id": "_BuYlVw2ulMN",
        "outputId": "2ffb807c-e0d9-4c5d-a960-a6d57b73be1d"
      },
      "source": [
        "#57. How to randomly place p elements in a 2D array? (★★☆)\n",
        "#(hint: np.put, np.random.choice)\n",
        "n = 10\n",
        "p =10\n",
        "Z = np.zeros((n,n))\n",
        "np.put(Z, np.random.choice(range(n*n), p, replace=False),4)\n",
        "print(Z)"
      ],
      "execution_count": null,
      "outputs": [
        {
          "name": "stdout",
          "output_type": "stream",
          "text": [
            "[[0. 0. 0. 0. 0. 0. 0. 0. 0. 0.]\n",
            " [0. 0. 0. 0. 0. 0. 4. 0. 0. 0.]\n",
            " [0. 0. 0. 0. 0. 0. 0. 4. 0. 0.]\n",
            " [4. 0. 0. 0. 0. 0. 0. 0. 0. 0.]\n",
            " [0. 0. 0. 0. 0. 0. 0. 4. 0. 0.]\n",
            " [0. 0. 0. 0. 4. 0. 0. 0. 0. 0.]\n",
            " [0. 0. 0. 0. 0. 4. 0. 0. 0. 0.]\n",
            " [0. 0. 0. 0. 0. 0. 0. 0. 0. 4.]\n",
            " [0. 4. 0. 0. 0. 0. 0. 0. 0. 0.]\n",
            " [0. 4. 4. 0. 0. 0. 0. 0. 0. 0.]]\n"
          ]
        }
      ]
    },
    {
      "cell_type": "code",
      "metadata": {
        "colab": {
          "base_uri": "https://localhost:8080/"
        },
        "id": "gZ9wp4JpulQu",
        "outputId": "eff16719-2247-4662-cade-be44552d96fb"
      },
      "source": [
        "#58. Subtract the mean of each row of a matrix \n",
        "#(hint: mean(axis=,keepdims=))\n",
        "x = np.random.randn(5,5)\n",
        "a = x-x.mean(axis =1,keepdims = True)\n",
        "a"
      ],
      "execution_count": null,
      "outputs": [
        {
          "data": {
            "text/plain": [
              "array([[ 1.05288852, -0.933179  , -0.09721557,  0.12618302, -0.14867697],\n",
              "       [ 1.21997175, -1.22469786,  0.4775129 , -0.04076741, -0.43201938],\n",
              "       [-0.15454772,  0.17070474,  0.30746488,  0.8346207 , -1.15824259],\n",
              "       [ 0.41430878,  0.66149418, -1.43383367,  0.24969682,  0.10833389],\n",
              "       [ 0.36582447,  0.55560446, -0.00360001,  0.54777847, -1.46560739]])"
            ]
          },
          "execution_count": 28,
          "metadata": {},
          "output_type": "execute_result"
        }
      ]
    },
    {
      "cell_type": "code",
      "metadata": {
        "colab": {
          "base_uri": "https://localhost:8080/"
        },
        "id": "iHLmTMISulUt",
        "outputId": "2739fece-6760-4c7a-a388-acc1ad02a713"
      },
      "source": [
        "#59. How to sort an array by the nth column? (★★☆)\n",
        "#(hint: argsort)\n",
        "x = np.random.randint(0,16,(4,4))\n",
        "y = x[x[:,1].argsort()]\n",
        "y\n"
      ],
      "execution_count": null,
      "outputs": [
        {
          "data": {
            "text/plain": [
              "array([[ 6,  6, 15,  0],\n",
              "       [13, 12,  1,  5],\n",
              "       [ 9, 14,  0, 14],\n",
              "       [ 4, 14, 15,  7]])"
            ]
          },
          "execution_count": 37,
          "metadata": {},
          "output_type": "execute_result"
        }
      ]
    },
    {
      "cell_type": "code",
      "metadata": {
        "colab": {
          "base_uri": "https://localhost:8080/"
        },
        "id": "fXRH-J_oulYy",
        "outputId": "220c0ed4-1c29-4e38-d73f-0e52db482aa3"
      },
      "source": [
        "#60. How to tell if a given 2D array has null columns? \n",
        "#(hint: any, ~)\n",
        "x = np.random.randint(1,10,(5,5))\n",
        "~x.any(axis = 0).any()"
      ],
      "execution_count": null,
      "outputs": [
        {
          "data": {
            "text/plain": [
              "False"
            ]
          },
          "execution_count": 39,
          "metadata": {},
          "output_type": "execute_result"
        }
      ]
    },
    {
      "cell_type": "code",
      "metadata": {
        "colab": {
          "base_uri": "https://localhost:8080/"
        },
        "id": "cQJaSv5Guld3",
        "outputId": "0fb227bd-3644-4df9-e042-e5e41bf92235"
      },
      "source": [
        "#61. Find the nearest value from a given value in an array\n",
        "#(hint: np.abs, argmin, flat)\n",
        "x = np.random.uniform(0,1,3)\n",
        "r = 0.3\n",
        "z = x.flat[np.abs(x-r).argmin()]\n",
        "print(z)"
      ],
      "execution_count": null,
      "outputs": [
        {
          "name": "stdout",
          "output_type": "stream",
          "text": [
            "0.3471165498284585\n"
          ]
        }
      ]
    },
    {
      "cell_type": "code",
      "metadata": {
        "id": "12Pl9vA9eLP6"
      },
      "source": [
        "#62. Considering two arrays with shape (1,3) and (3,1), how to compute their sum using an iterator? (★★☆)\n",
        "#(hint: np.nditer)\n",
        "a = np.arange(1,3)\n",
        "b = np.arange(3,1)\n",
        "\n",
        "for i,j in np.nditer([a,b] ):\n",
        "  print(sum(i,j))"
      ],
      "execution_count": null,
      "outputs": []
    },
    {
      "cell_type": "code",
      "metadata": {
        "colab": {
          "base_uri": "https://localhost:8080/"
        },
        "id": "iTk8AalDeLUP",
        "outputId": "60be0d03-43b6-47d2-fe51-ccfa6794750f"
      },
      "source": [
        "\n",
        "import numpy as np\n",
        "#63. Create an array class that has a name attribute (★★☆)\n",
        "#(hint: class method)\n",
        "class Named(np.ndarray):\n",
        "    def __new__(cls, array, name=\"no name\"):\n",
        "        obj = np.asarray(array).view(cls)\n",
        "        obj.name = name\n",
        "        return obj\n",
        "    def __array_finalize__(self, obj):\n",
        "        if obj is None: return\n",
        "        self.info = getattr(obj, 'name', \"no name\")\n",
        "\n",
        "Z = Named(np.arange(10), \"science\")\n",
        "print (Z.name)"
      ],
      "execution_count": null,
      "outputs": [
        {
          "name": "stdout",
          "output_type": "stream",
          "text": [
            "science\n"
          ]
        }
      ]
    },
    {
      "cell_type": "code",
      "metadata": {
        "colab": {
          "base_uri": "https://localhost:8080/"
        },
        "id": "Z0KKL3npeLYr",
        "outputId": "ea980a17-3a08-4461-a6c8-41487085bc25"
      },
      "source": [
        "#64. Consider a given vector, how to add 1 to each element indexed by a second vector (be careful with repeated indices)? (★★★)\n",
        "#(hint: np.bincount | np.add.at)\n",
        "x = np.ones(3)\n",
        "y = np.random.randint(0,len(x),10)\n",
        "x += np.bincount(y,minlength = len(x))\n",
        "np.add.at(x,y,1)\n",
        "print(x)\n",
        "\n"
      ],
      "execution_count": null,
      "outputs": [
        {
          "name": "stdout",
          "output_type": "stream",
          "text": [
            "[3. 3. 1. 1. 3. 5. 5. 5. 3. 1.]\n"
          ]
        }
      ]
    },
    {
      "cell_type": "code",
      "metadata": {
        "colab": {
          "base_uri": "https://localhost:8080/"
        },
        "id": "acKPoa60eLcp",
        "outputId": "5d0e3257-154c-4cb8-d7cb-72d525e20b2e"
      },
      "source": [
        "X =[4,5,6,7,7,8]\n",
        "Y = [1,2,3,4,5,6]\n",
        "f= np.bincount(X,Y)\n",
        "f"
      ],
      "execution_count": null,
      "outputs": [
        {
          "data": {
            "text/plain": [
              "array([0., 0., 0., 0., 1., 2., 3., 9., 6.])"
            ]
          },
          "execution_count": 15,
          "metadata": {},
          "output_type": "execute_result"
        }
      ]
    },
    {
      "cell_type": "code",
      "metadata": {
        "colab": {
          "base_uri": "https://localhost:8080/"
        },
        "id": "kMOw_5Y5eLge",
        "outputId": "986bd899-7d0c-4f2f-c892-3db5b998aa03"
      },
      "source": [
        "#69. How to get the diagonal of a dot product? (★★★)\n",
        "#hint: np.diag\n",
        "x = np.random.randint(0,5,(3,3))\n",
        "y = np.random.randint(0,5,(3,3))\n",
        "z = np.diag(np.dot(x,y))\n",
        "z\n"
      ],
      "execution_count": null,
      "outputs": [
        {
          "data": {
            "text/plain": [
              "array([ 6, 14, 19])"
            ]
          },
          "execution_count": 16,
          "metadata": {},
          "output_type": "execute_result"
        }
      ]
    },
    {
      "cell_type": "code",
      "metadata": {
        "colab": {
          "base_uri": "https://localhost:8080/"
        },
        "id": "CUCFy7I81e5M",
        "outputId": "a235ecd3-deac-4883-cc28-889ee6a352c6"
      },
      "source": [
        "#83. How to find the most frequent value in an array?\n",
        "#hint: np.bincount, argmax\n",
        "x = np.array([2,22,2,2,2,3,4,4,4,4,5,6,7,8,9])\n",
        "print(np.bincount(x).argmax())"
      ],
      "execution_count": null,
      "outputs": [
        {
          "name": "stdout",
          "output_type": "stream",
          "text": [
            "2\n"
          ]
        }
      ]
    },
    {
      "cell_type": "code",
      "metadata": {
        "colab": {
          "base_uri": "https://localhost:8080/"
        },
        "id": "AN2kv46T1e9Z",
        "outputId": "0e2054ab-f864-461c-a542-765f05fefb2d"
      },
      "source": [
        "#89. How to get the n largest values of an array (★★★)\n",
        "#(hint: np.argsort | np.argpartition)#\n",
        "\n",
        "x = np.arange(200)\n",
        "np.random.shuffle(x)\n",
        "n = 3\n",
        "print(x[np.argpartition(-x,n)[:n]])"
      ],
      "execution_count": null,
      "outputs": [
        {
          "name": "stdout",
          "output_type": "stream",
          "text": [
            "[198 199 197]\n"
          ]
        }
      ]
    },
    {
      "cell_type": "code",
      "metadata": {
        "colab": {
          "base_uri": "https://localhost:8080/"
        },
        "id": "qYoji30J1fBe",
        "outputId": "b5922a50-2241-4316-80e8-30543c78a554"
      },
      "source": [
        "#72. How to swap two rows of an array? (★★★)\n",
        "#(hint: array[[]] = array[[]])\n",
        "x = np.arange(25).reshape(5,5)\n",
        "x[[0,1]] == x[[1,0]]\n",
        "x\n",
        "\n"
      ],
      "execution_count": null,
      "outputs": [
        {
          "data": {
            "text/plain": [
              "array([[ 0,  1,  2,  3,  4],\n",
              "       [ 5,  6,  7,  8,  9],\n",
              "       [10, 11, 12, 13, 14],\n",
              "       [15, 16, 17, 18, 19],\n",
              "       [20, 21, 22, 23, 24]])"
            ]
          },
          "execution_count": 3,
          "metadata": {},
          "output_type": "execute_result"
        }
      ]
    },
    {
      "cell_type": "code",
      "metadata": {
        "colab": {
          "base_uri": "https://localhost:8080/"
        },
        "id": "tpSsHbVh1fFU",
        "outputId": "dfe72ff4-c92f-47aa-f4d9-d111e589a0c4"
      },
      "source": [
        "#74. Given an array C that is a bincount, how to produce an array A such that np.bincount(A) == C? (★★★)\n",
        "#(hint: np.repeat)\n",
        "C = np.bincount([1,2,3,4,5,6,1,1])\n",
        "A = np.repeat(np.arange(len(C)),C)\n",
        "print(A)"
      ],
      "execution_count": null,
      "outputs": [
        {
          "name": "stdout",
          "output_type": "stream",
          "text": [
            "[1 1 1 2 3 4 5 6]\n"
          ]
        }
      ]
    },
    {
      "cell_type": "code",
      "metadata": {
        "id": "1jaqlC044xLZ"
      },
      "source": [
        "#75. How to compute averages using a sliding window over an array? (★★★)\n",
        "#(hint: np.cumsum)\n",
        "\n"
      ],
      "execution_count": null,
      "outputs": []
    },
    {
      "cell_type": "code",
      "metadata": {
        "colab": {
          "base_uri": "https://localhost:8080/"
        },
        "id": "op9VYTqk4xRm",
        "outputId": "ba7f4a51-cc30-4ab6-fa2d-92ef7535578f"
      },
      "source": [
        "#77. How to negate a boolean, or to change the sign of a float inplace? (★★★)\n",
        "#hint: np.logical_not, np.negative#\n",
        "x = np.arange(0,2,100)\n",
        "np.logical_not(x,out = x)\n",
        "print(x)\n",
        "y= np.arange(-1,1,100)\n",
        "np.negative(y,out = y)\n",
        "print(y)\n"
      ],
      "execution_count": null,
      "outputs": [
        {
          "name": "stdout",
          "output_type": "stream",
          "text": [
            "[1]\n",
            "[1]\n"
          ]
        }
      ]
    },
    {
      "cell_type": "code",
      "metadata": {
        "id": "9zebnnWI_5o8"
      },
      "source": [
        ""
      ],
      "execution_count": null,
      "outputs": []
    },
    {
      "cell_type": "code",
      "metadata": {
        "colab": {
          "background_save": true
        },
        "id": "Sw144nmE_53y",
        "outputId": "a4b9c4a7-b8eb-45f2-c798-007fe8e476da"
      },
      "source": [
        "#83. How to find the most frequent value in an array?\n",
        "#hint: np.bincount, argmax\n",
        "\n",
        "x = np.random.randint(0,10,15)\n"
      ],
      "execution_count": null,
      "outputs": [
        {
          "name": "stdout",
          "output_type": "stream",
          "text": [
            "1\n"
          ]
        }
      ]
    },
    {
      "cell_type": "code",
      "metadata": {
        "id": "NcrFs2ea4xWC"
      },
      "source": [
        "\n"
      ],
      "execution_count": null,
      "outputs": []
    }
  ]
}